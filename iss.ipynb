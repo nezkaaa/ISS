{
 "cells": [
  {
   "cell_type": "code",
   "execution_count": 7,
   "id": "eef8203b",
   "metadata": {},
   "outputs": [
    {
     "ename": "TypeError",
     "evalue": "float() argument must be a string or a real number, not 'dict'",
     "output_type": "error",
     "traceback": [
      "\u001b[1;31m---------------------------------------------------------------------------\u001b[0m",
      "\u001b[1;31mTypeError\u001b[0m                                 Traceback (most recent call last)",
      "Cell \u001b[1;32mIn[7], line 11\u001b[0m\n\u001b[0;32m      9\u001b[0m \u001b[38;5;28;01mfor\u001b[39;00m _ \u001b[38;5;129;01min\u001b[39;00m \u001b[38;5;28mrange\u001b[39m(\u001b[38;5;241m20\u001b[39m):\n\u001b[0;32m     10\u001b[0m     ISS \u001b[38;5;241m=\u001b[39m requests\u001b[38;5;241m.\u001b[39mget(\u001b[38;5;124m'\u001b[39m\u001b[38;5;124mhttp://api.open-notify.org/iss-now.json\u001b[39m\u001b[38;5;124m'\u001b[39m)\n\u001b[1;32m---> 11\u001b[0m     results \u001b[38;5;241m=\u001b[39m \u001b[38;5;28;43mfloat\u001b[39;49m\u001b[43m(\u001b[49m\u001b[43mISS\u001b[49m\u001b[38;5;241;43m.\u001b[39;49m\u001b[43mjson\u001b[49m\u001b[43m(\u001b[49m\u001b[43m)\u001b[49m\u001b[43m)\u001b[49m\n\u001b[0;32m     13\u001b[0m     df_list\u001b[38;5;241m.\u001b[39mappend(results[\u001b[38;5;124m'\u001b[39m\u001b[38;5;124miss_position\u001b[39m\u001b[38;5;124m'\u001b[39m])\n\u001b[0;32m     14\u001b[0m     \u001b[38;5;66;03m#print(\"Running...\")\u001b[39;00m\n",
      "\u001b[1;31mTypeError\u001b[0m: float() argument must be a string or a real number, not 'dict'"
     ]
    }
   ],
   "source": [
    "import datetime\n",
    "import requests\n",
    "import pandas as pd\n",
    "import time\n",
    "import matplotlib.pyplot as plt\n",
    "\n",
    "df_list = []\n",
    "\n",
    "for _ in range(20):\n",
    "    ISS = requests.get('http://api.open-notify.org/iss-now.json')\n",
    "    results = ISS.json()\n",
    "    \n",
    "    df_list.append(results['iss_position'])\n",
    "    #print(\"Running...\")\n",
    "\n",
    "    time.sleep(5)\n",
    "\n",
    "df = pd.DataFrame(df_list)\n",
    "\n",
    "if len(df) > 0:  # Check if DataFrame is not empty\n",
    "    df.reset_index(drop=True, inplace=True)\n",
    "    df['Number'] = range(1, len(df) + 1)\n",
    "else:\n",
    "    print(\"DataFrame is empty.\")\n",
    "\n",
    "#Using matplotlib\n",
    "\n",
    "latitudes = df['latitude']\n",
    "longitudes = df['longitude']\n",
    "\n",
    "plt.plot(longitudes, latitudes)\n",
    "\n",
    "plt.xlabel('Longitude')\n",
    "plt.ylabel('Latitude')\n",
    "plt.title('International Space Station Location')\n",
    "\n",
    "plt.show()"
   ]
  }
 ],
 "metadata": {
  "kernelspec": {
   "display_name": "Python 3 (ipykernel)",
   "language": "python",
   "name": "python3"
  },
  "language_info": {
   "codemirror_mode": {
    "name": "ipython",
    "version": 3
   },
   "file_extension": ".py",
   "mimetype": "text/x-python",
   "name": "python",
   "nbconvert_exporter": "python",
   "pygments_lexer": "ipython3",
   "version": "3.10.9"
  }
 },
 "nbformat": 4,
 "nbformat_minor": 5
}
