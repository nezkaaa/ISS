{
 "cells": [
  {
   "cell_type": "code",
   "execution_count": null,
   "id": "63a29bf8",
   "metadata": {},
   "outputs": [],
   "source": [
    "import datetime\n",
    "import requests\n",
    "import pandas as pd\n",
    "import time\n",
    "import matplotlib.pyplot as plt\n",
    "\n",
    "df_list = []\n",
    "\n",
    "for _ in range(20):\n",
    "    ISS = requests.get('http://api.open-notify.org/iss-now.json')\n",
    "    results = ISS.json()\n",
    "    \n",
    "    df_list.append(results['iss_position'])\n",
    "    #print(\"Running...\")\n",
    "\n",
    "    time.sleep(5)\n",
    "\n",
    "df = pd.DataFrame(df_list)\n",
    "\n",
    "if len(df) > 0:  # Check if DataFrame is not empty\n",
    "    df.reset_index(drop=True, inplace=True)\n",
    "    df['Number'] = range(1, len(df) + 1)\n",
    "else:\n",
    "    print(\"DataFrame is empty.\")\n",
    "\n",
    "#Using matplotlib\n",
    "\n",
    "latitudes = df['latitude']\n",
    "longitudes = df['longitude']\n",
    "\n",
    "plt.plot(longitudes, latitudes)\n",
    "\n",
    "plt.xlabel('Longitude')\n",
    "plt.ylabel('Latitude')\n",
    "plt.title('International Space Station Location')\n",
    "\n",
    "plt.show()"
   ]
  }
 ],
 "metadata": {
  "kernelspec": {
   "display_name": "Python 3 (ipykernel)",
   "language": "python",
   "name": "python3"
  },
  "language_info": {
   "codemirror_mode": {
    "name": "ipython",
    "version": 3
   },
   "file_extension": ".py",
   "mimetype": "text/x-python",
   "name": "python",
   "nbconvert_exporter": "python",
   "pygments_lexer": "ipython3",
   "version": "3.10.9"
  }
 },
 "nbformat": 4,
 "nbformat_minor": 5
}
